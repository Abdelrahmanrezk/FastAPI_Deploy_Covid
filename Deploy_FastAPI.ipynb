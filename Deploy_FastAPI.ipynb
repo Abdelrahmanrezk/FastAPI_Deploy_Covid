{
 "cells": [
  {
   "cell_type": "markdown",
   "id": "39058f6b",
   "metadata": {},
   "source": [
    "# Used Libraries"
   ]
  },
  {
   "cell_type": "code",
   "execution_count": 1,
   "id": "100296d5",
   "metadata": {},
   "outputs": [],
   "source": [
    "import pandas as pd\n",
    "\n",
    "from sklearn.linear_model import LogisticRegression\n",
    "from sklearn.ensemble import RandomForestClassifier\n",
    "\n",
    "from typing import Optional\n",
    "from pydantic import BaseModel\n",
    "\n",
    "\n",
    "from fastapi.encoders import jsonable_encoder\n",
    "from fastapi import FastAPI\n",
    "from enum import Enum\n",
    "import os\n",
    "import io\n",
    "import pickle\n",
    "import uvicorn\n",
    "import nest_asyncio"
   ]
  },
  {
   "cell_type": "markdown",
   "id": "f4cda4e2",
   "metadata": {},
   "source": [
    "# Load Models\n",
    "\n",
    "These are pre-trained models weights on Covid dataset, you can find more of this on link below:\n",
    "\n",
    "[Arabic-Hands-on-Analysis-Clustering-and-Classification-of-Large-Arabic-Twitter-Data-set-on-COVID19](https://github.com/Abdelrahmanrezk/Arabic-Hands-on-Analysis-Clustering-and-Classification-of-Large-Arabic-Twitter-Data-set-on-COVID19)"
   ]
  },
  {
   "cell_type": "code",
   "execution_count": 3,
   "id": "35396ab7",
   "metadata": {},
   "outputs": [],
   "source": [
    "log_reg_model = pickle.load(open(\"logistic_regression_93tr_91ts.sav\", \"rb\"))\n",
    "randforest_model = pickle.load(open(\"RandomForestClassifier_99tr_92_ts.sav\", \"rb\"))\n",
    "tf_idf_model = pickle.load(open(\"tf_idf_vectorizer_50000_fetures.pickle\", \"rb\"))"
   ]
  },
  {
   "cell_type": "markdown",
   "id": "fad78ed6",
   "metadata": {},
   "source": [
    "# Load Data To test on"
   ]
  },
  {
   "cell_type": "code",
   "execution_count": 4,
   "id": "1e456fd5",
   "metadata": {},
   "outputs": [
    {
     "data": {
      "text/html": [
       "<div>\n",
       "<style scoped>\n",
       "    .dataframe tbody tr th:only-of-type {\n",
       "        vertical-align: middle;\n",
       "    }\n",
       "\n",
       "    .dataframe tbody tr th {\n",
       "        vertical-align: top;\n",
       "    }\n",
       "\n",
       "    .dataframe thead th {\n",
       "        text-align: right;\n",
       "    }\n",
       "</style>\n",
       "<table border=\"1\" class=\"dataframe\">\n",
       "  <thead>\n",
       "    <tr style=\"text-align: right;\">\n",
       "      <th></th>\n",
       "      <th>cleaned_tweet_text</th>\n",
       "      <th>class</th>\n",
       "    </tr>\n",
       "  </thead>\n",
       "  <tbody>\n",
       "    <tr>\n",
       "      <th>0</th>\n",
       "      <td>ممثل منظمه الصحه العالميه في مصر يحدث في مصر ا...</td>\n",
       "      <td>1</td>\n",
       "    </tr>\n",
       "    <tr>\n",
       "      <th>1</th>\n",
       "      <td>وباء وانتشر</td>\n",
       "      <td>1</td>\n",
       "    </tr>\n",
       "    <tr>\n",
       "      <th>2</th>\n",
       "      <td>هجوم عنيف المستشار اسامه ابوالمجد علي مصلحه ال...</td>\n",
       "      <td>1</td>\n",
       "    </tr>\n",
       "    <tr>\n",
       "      <th>3</th>\n",
       "      <td>طيب وانتم بالله عندكم قوه نفس امريكا او الصين ...</td>\n",
       "      <td>0</td>\n",
       "    </tr>\n",
       "    <tr>\n",
       "      <th>4</th>\n",
       "      <td>بحر اليابان وليس بحر الصين</td>\n",
       "      <td>0</td>\n",
       "    </tr>\n",
       "  </tbody>\n",
       "</table>\n",
       "</div>"
      ],
      "text/plain": [
       "                                  cleaned_tweet_text  class\n",
       "0  ممثل منظمه الصحه العالميه في مصر يحدث في مصر ا...      1\n",
       "1                                       وباء وانتشر       1\n",
       "2  هجوم عنيف المستشار اسامه ابوالمجد علي مصلحه ال...      1\n",
       "3  طيب وانتم بالله عندكم قوه نفس امريكا او الصين ...      0\n",
       "4                        بحر اليابان وليس بحر الصين       0"
      ]
     },
     "execution_count": 4,
     "metadata": {},
     "output_type": "execute_result"
    }
   ],
   "source": [
    "covid_tweets_data = pd.read_csv('test_data.csv')\n",
    "covid_tweets_data.head()"
   ]
  },
  {
   "cell_type": "code",
   "execution_count": 5,
   "id": "b3c1c8bc",
   "metadata": {},
   "outputs": [],
   "source": [
    "def classify_tweet(tweets, model):\n",
    "    '''\n",
    "    The function used to classify tweets, but during to the model design it take a list of tweets,\n",
    "    and return numpy array, so we have do some manipulation before return the data.\n",
    "    \n",
    "    Argument:\n",
    "        tweets: dictionary of tweet text and default value = 0\n",
    "        model: Enum of two string which the model you need to choose\n",
    "    Return:\n",
    "        classifed_tweet: dictionary of tweet text and default value = negative\n",
    "    '''\n",
    "    \n",
    "    # get the tweet text as string then convert to list\n",
    "    tweet = [tweets['tweet_text']]\n",
    "    \n",
    "    # Get the text features using Tf-Idf vectorization model\n",
    "    tweets_features = tf_idf_model.transform(tweet)\n",
    "    \n",
    "    # convert to sparse matrix instead of compressed space type\n",
    "    tweets_features_array = tweets_features.toarray()\n",
    "    \n",
    "    \n",
    "    # Check which model you need to predicit \n",
    "    if model == \"Logistic_Model\":\n",
    "        print(\"Prediction using Logistic Model\")\n",
    "        print(\"=\"*50)\n",
    "        predict = log_reg_model.predict(tweets_features_array)\n",
    "    else:\n",
    "        print(\"Prediction using RandomForest Model\")\n",
    "        print(\"=\"*50)\n",
    "        predict = randforest_model.predict(tweets_features_array)\n",
    "        \n",
    "    \n",
    "    pred_result = 'Positive' if predict[0] == 1 else 'Negative'\n",
    "    \n",
    "    # Return dictionary\n",
    "    classifed_tweet = {\n",
    "        'tweet_text': tweet,\n",
    "        'predict_class': pred_result\n",
    "#         'predict_class': predict\n",
    "    }\n",
    "    return classifed_tweet"
   ]
  },
  {
   "cell_type": "code",
   "execution_count": 6,
   "id": "0a126513",
   "metadata": {},
   "outputs": [],
   "source": [
    "def test_tweet(tweet_indx_with_100, model_type):\n",
    "    test_tweet = list(covid_tweets_data['cleaned_tweet_text'])[tweet_indx_with_100]\n",
    "    print(test_tweet)\n",
    "    print(\"=============== True Value for this tweet ===================\")\n",
    "    print(\"=============== \" + str(covid_tweets_data['class'][tweet_indx_with_100]) + \" ===================\")\n",
    "    \n",
    "    print(\"=\"*50)\n",
    "    tweet_dict = {\n",
    "        'tweet_text': test_tweet,\n",
    "        'predict_class': '0'\n",
    "    }\n",
    "    \n",
    "    return classify_tweet(tweet_dict, model_type)"
   ]
  },
  {
   "cell_type": "code",
   "execution_count": 7,
   "id": "868e53ee",
   "metadata": {},
   "outputs": [
    {
     "name": "stdout",
     "output_type": "stream",
     "text": [
      "ممثل منظمه الصحه العالميه في مصر يحدث في مصر اثق تماما في الاجراءات تتخذها مصر لمواجهه وباء محتمل MBCMASR \n",
      "=============== True Value for this tweet ===================\n",
      "=============== 1 ===================\n",
      "==================================================\n",
      "Prediction using Logistic Model\n",
      "==================================================\n"
     ]
    },
    {
     "data": {
      "text/plain": [
       "{'tweet_text': ['ممثل منظمه الصحه العالميه في مصر يحدث في مصر اثق تماما في الاجراءات تتخذها مصر لمواجهه وباء محتمل MBCMASR '],\n",
       " 'predict_class': 'Positive'}"
      ]
     },
     "execution_count": 7,
     "metadata": {},
     "output_type": "execute_result"
    }
   ],
   "source": [
    "test_tweet(0, \"Logistic_Model\")"
   ]
  },
  {
   "cell_type": "code",
   "execution_count": 8,
   "id": "bd79dd71",
   "metadata": {},
   "outputs": [
    {
     "name": "stdout",
     "output_type": "stream",
     "text": [
      "طيب وانتم بالله عندكم قوه نفس امريكا او الصين او رسيا مثلا اجب \n",
      "=============== True Value for this tweet ===================\n",
      "=============== 0 ===================\n",
      "==================================================\n",
      "Prediction using RandomForest Model\n",
      "==================================================\n"
     ]
    },
    {
     "data": {
      "text/plain": [
       "{'tweet_text': ['طيب وانتم بالله عندكم قوه نفس امريكا او الصين او رسيا مثلا اجب '],\n",
       " 'predict_class': 'Negative'}"
      ]
     },
     "execution_count": 8,
     "metadata": {},
     "output_type": "execute_result"
    }
   ],
   "source": [
    "test_tweet(3, \"\")"
   ]
  },
  {
   "cell_type": "code",
   "execution_count": 9,
   "id": "44536980",
   "metadata": {},
   "outputs": [],
   "source": [
    "# Assign an instance of the FastAPI class to the variable \"app\".\n",
    "# You will interact with your api using this instance.\n",
    "app = FastAPI(title='Deploying a ML Model with FastAPI')\n",
    "\n",
    "# List available models using Enum\n",
    "class Model(str, Enum):\n",
    "    Logistic_Model = \"Logistic_Model\"\n",
    "    Rnd_Forest_Model = \"Random_Forest_Model\"\n",
    "\n",
    "\n",
    "class Tweet_Text(BaseModel):\n",
    "    tweet_text: str = \"\"\"ممثل منظمه الصحه العالميه في مصر يحدث في مصر اثق تماما في الاجراءات تتخذها مصر لمواجهه وباء محتمل MBCMASR \"\"\"\n",
    "    predict_class: Optional[str] = 'Negative'\n",
    "        \n",
    "\n",
    "@app.get(\"/\")\n",
    "def home():\n",
    "    # Once you go to this link you will see the get and post method below to trying out\n",
    "    return \"Congratulations! Your API is working as expected. Now head over to http://localhost:5000/docs.\"\n",
    "\n",
    "\n",
    "# This endpoint handles all the logic necessary for the object detection to work.\n",
    "# It requires the desired model and the dictionary of tweet and default class as we give default values to us\n",
    "# In the api you can try other tweet from some_tweets below\n",
    "@app.post(\"/predict\") \n",
    "def prediction(model: Model, tweet: Tweet_Text):\n",
    "    \n",
    "    # Encode the retrived request data \n",
    "    tweet = jsonable_encoder(tweet)\n",
    "    \n",
    "    # Run our model\n",
    "    classifed_tweet = classify_tweet(tweet, model=model)\n",
    "    \n",
    "    return classifed_tweet"
   ]
  },
  {
   "cell_type": "code",
   "execution_count": 10,
   "id": "a2c31e05",
   "metadata": {},
   "outputs": [
    {
     "data": {
      "text/plain": [
       "['ممثل منظمه الصحه العالميه في مصر يحدث في مصر اثق تماما في الاجراءات تتخذها مصر لمواجهه وباء محتمل MBCMASR ',\n",
       " 'وباء وانتشر ',\n",
       " 'هجوم عنيف المستشار اسامه ابوالمجد علي مصلحه الجمارك ومكاتب التمثيل التجاري وجهاز حمايه المنافسه لتسببهم في القضاء علي الاستيراد الموازي والمستوردين ماتسبب في تفشي ظاهره الاحتكار ',\n",
       " 'طيب وانتم بالله عندكم قوه نفس امريكا او الصين او رسيا مثلا اجب ',\n",
       " 'بحر اليابان وليس بحر الصين ',\n",
       " 'مانحبلك الخساره اشتري كمامات بس ',\n",
       " 'نفس الكلام بيحصل عندنا في السوداان الله بيكون دا وباء ولا شنو الحاصل ',\n",
       " 'اما ووهان رو به فاصله سال دیدم به حدی رشدش سریع بود که باورکردنی نبود یعنی اصلا در مخیله ایرانی نمی كنجید که چطور در عرض سال یک شهر تا این حد می تونه تغییر کنه ',\n",
       " 'المطلوب طيب خطتين وباء الخنق بس للتهديد مو انك تقتليه ',\n",
       " 'وباء معدي البلد اليومين دول اللهم احفظنا ']"
      ]
     },
     "execution_count": 10,
     "metadata": {},
     "output_type": "execute_result"
    }
   ],
   "source": [
    "some_tweets = list(covid_tweets_data['cleaned_tweet_text'])[:10]\n",
    "some_tweets # choose any tweet to test with the api"
   ]
  },
  {
   "cell_type": "code",
   "execution_count": null,
   "id": "095039d4",
   "metadata": {},
   "outputs": [
    {
     "name": "stderr",
     "output_type": "stream",
     "text": [
      "INFO:     Started server process [9340]\n",
      "INFO:     Waiting for application startup.\n",
      "INFO:     Application startup complete.\n",
      "INFO:     Uvicorn running on http://127.0.0.1:5000 (Press CTRL+C to quit)\n"
     ]
    },
    {
     "name": "stdout",
     "output_type": "stream",
     "text": [
      "INFO:     127.0.0.1:45004 - \"GET /docs HTTP/1.1\" 200 OK\n",
      "INFO:     127.0.0.1:45004 - \"GET /openapi.json HTTP/1.1\" 200 OK\n",
      "Prediction using Logistic Model\n",
      "==================================================\n",
      "INFO:     127.0.0.1:45008 - \"POST /predict?model=Logistic_Model HTTP/1.1\" 200 OK\n",
      "Prediction using RandomForest Model\n",
      "==================================================\n",
      "INFO:     127.0.0.1:45016 - \"POST /predict?model=Random_Forest_Model HTTP/1.1\" 200 OK\n",
      "Prediction using RandomForest Model\n",
      "==================================================\n",
      "INFO:     127.0.0.1:45020 - \"POST /predict?model=Random_Forest_Model HTTP/1.1\" 200 OK\n",
      "Prediction using Logistic Model\n",
      "==================================================\n",
      "INFO:     127.0.0.1:45024 - \"POST /predict?model=Logistic_Model HTTP/1.1\" 200 OK\n",
      "Prediction using Logistic Model\n",
      "==================================================\n",
      "INFO:     127.0.0.1:45028 - \"POST /predict?model=Logistic_Model HTTP/1.1\" 200 OK\n",
      "Prediction using RandomForest Model\n",
      "==================================================\n",
      "INFO:     127.0.0.1:45032 - \"POST /predict?model=Random_Forest_Model HTTP/1.1\" 200 OK\n"
     ]
    }
   ],
   "source": [
    "# Allows the server to be run in this interactive environment\n",
    "nest_asyncio.apply()\n",
    "\n",
    "# Host depends on the setup you selected (docker or virtual env)\n",
    "host = \"0.0.0.0\" if os.getenv(\"DOCKER-SETUP\") else \"127.0.0.1\"\n",
    "\n",
    "# uvicorn is fast Asynchronous Server Gateway Interface (ASGI) uvicorn handles the serving\n",
    "# Spin up the server!    \n",
    "uvicorn.run(app, host=host, port=5000)"
   ]
  },
  {
   "cell_type": "code",
   "execution_count": null,
   "id": "02f58cd7",
   "metadata": {},
   "outputs": [],
   "source": []
  }
 ],
 "metadata": {
  "kernelspec": {
   "display_name": "Python 3",
   "language": "python",
   "name": "python3"
  },
  "language_info": {
   "codemirror_mode": {
    "name": "ipython",
    "version": 3
   },
   "file_extension": ".py",
   "mimetype": "text/x-python",
   "name": "python",
   "nbconvert_exporter": "python",
   "pygments_lexer": "ipython3",
   "version": "3.6.9"
  }
 },
 "nbformat": 4,
 "nbformat_minor": 5
}
